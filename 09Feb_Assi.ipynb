{
 "cells": [
  {
   "cell_type": "code",
   "execution_count": 26,
   "id": "baaf0061-6b0b-4868-b57f-ee0164d0d42e",
   "metadata": {},
   "outputs": [],
   "source": [
    "# Que 1 Answer :\n",
    "class Vehicle:\n",
    "    def __init__(self, name_of_vehicle, max_speed, average_of_vehicle):\n",
    "        self.name_of_vehicle = name_of_vehicle\n",
    "        self.max_speed = max_speed\n",
    "        self.average_of_vehicle = average_of_vehicle\n",
    "\n",
    "      "
   ]
  },
  {
   "cell_type": "code",
   "execution_count": 28,
   "id": "f32e4785-7826-439d-b120-10ae56079894",
   "metadata": {},
   "outputs": [
    {
     "name": "stdout",
     "output_type": "stream",
     "text": [
      "Tesla Model S\n",
      "250\n",
      "200\n"
     ]
    }
   ],
   "source": [
    "car = Vehicle(\"Tesla Model S\", 250, 200)\n",
    "print(car.name_of_vehicle) \n",
    "print(car.max_speed)\n",
    "print(car.average_of_vehicle) \n"
   ]
  },
  {
   "cell_type": "code",
   "execution_count": 29,
   "id": "ee6333db-6547-4137-b328-121301c691ae",
   "metadata": {},
   "outputs": [],
   "source": [
    "# Que 2 Answer :\n",
    "class Car(Vehicle):\n",
    "    def __init__(self, name_of_vehicle, max_speed, average_of_vehicle):\n",
    "        super().__init__(name_of_vehicle, max_speed, average_of_vehicle)\n",
    "\n",
    "    def seating_capacity(self, capacity):\n",
    "        return f\"{self.name_of_vehicle} has a seating capacity of {capacity} passengers.\"\n"
   ]
  },
  {
   "cell_type": "code",
   "execution_count": 31,
   "id": "a9ad9251-d9de-4740-b59e-948a80585cd3",
   "metadata": {},
   "outputs": [
    {
     "name": "stdout",
     "output_type": "stream",
     "text": [
      "Tesla Model S has a seating capacity of 5 passengers.\n"
     ]
    }
   ],
   "source": [
    "tesla = Car(\"Tesla Model S\", 250, 200)\n",
    "print(tesla.seating_capacity(5)) "
   ]
  },
  {
   "cell_type": "markdown",
   "id": "bda06953-875c-4463-979a-414e95897f95",
   "metadata": {},
   "source": [
    "# Que 3 Answer :\n",
    "Multiple inheritance is a feature of object-oriented programming where a class can inherit from more than one parent class. In Python, multiple inheritance is implemented by specifying multiple parent classes in the class definition.\n",
    "\n",
    "Example:"
   ]
  },
  {
   "cell_type": "code",
   "execution_count": 32,
   "id": "b3158115-2c53-4df8-ad4d-f8f3b0aeb83b",
   "metadata": {},
   "outputs": [
    {
     "name": "stdout",
     "output_type": "stream",
     "text": [
      "This is method A.\n",
      "This is method B.\n",
      "This is method C.\n"
     ]
    }
   ],
   "source": [
    "# Que 3 Answer Example :\n",
    "class A:\n",
    "    def methodA(self):\n",
    "        print(\"This is method A.\")\n",
    "\n",
    "class B:\n",
    "    def methodB(self):\n",
    "        print(\"This is method B.\")\n",
    "\n",
    "class C(A, B):\n",
    "    def methodC(self):\n",
    "        print(\"This is method C.\")\n",
    "\n",
    "\n",
    "c = C()\n",
    "c.methodA() \n",
    "c.methodB() \n",
    "c.methodC()\n"
   ]
  },
  {
   "cell_type": "markdown",
   "id": "904d1752-d1f4-4774-8987-057a194e3017",
   "metadata": {},
   "source": [
    "Que 4 Answer :\n",
    "In Python, getters and setters are used to access and modify the private variables of a class. They are also known as accessor and mutator methods, respectively. The main purpose of using getters and setters is to control access to the variables of a class and ensure that the values stored in those variables are valid.\n",
    "\n",
    "Example:"
   ]
  },
  {
   "cell_type": "code",
   "execution_count": 33,
   "id": "77d13843-5a58-43ae-b806-4c2853fbb90a",
   "metadata": {},
   "outputs": [],
   "source": [
    "class Person:\n",
    "    def __init__(self, name, age):\n",
    "        self.__name = name \n",
    "        self.__age = age   \n",
    "   \n",
    "    def get_name(self):\n",
    "        return self.__name\n",
    "\n",
    "    \n",
    "    def set_name(self, name):\n",
    "        self.__name = name\n",
    "\n",
    "   \n",
    "    def get_age(self):\n",
    "        return self.__age\n",
    "\n",
    "    def set_age(self, age):\n",
    "        if age < 0:\n",
    "            print(\"Invalid age!\")\n",
    "        else:\n",
    "            self.__age = age\n"
   ]
  },
  {
   "cell_type": "code",
   "execution_count": 34,
   "id": "d7baafd6-a146-4793-8d90-6b9504bdb03b",
   "metadata": {},
   "outputs": [
    {
     "name": "stdout",
     "output_type": "stream",
     "text": [
      "Chetan\n",
      "37\n"
     ]
    }
   ],
   "source": [
    "p = Person(\"Chetan\", 37)\n",
    "print(p.get_name()) \n",
    "print(p.get_age()) "
   ]
  },
  {
   "cell_type": "code",
   "execution_count": 35,
   "id": "c1ad6e7d-8d5e-427a-9617-43c233c018be",
   "metadata": {},
   "outputs": [
    {
     "name": "stdout",
     "output_type": "stream",
     "text": [
      "Varsha\n",
      "28\n"
     ]
    }
   ],
   "source": [
    "p.set_name(\"Varsha\")\n",
    "p.set_age(28)\n",
    "print(p.get_name()) \n",
    "print(p.get_age()) "
   ]
  },
  {
   "cell_type": "code",
   "execution_count": 36,
   "id": "cbf2a89e-0bb4-4d01-aa05-0b390d9c7076",
   "metadata": {},
   "outputs": [
    {
     "name": "stdout",
     "output_type": "stream",
     "text": [
      "Invalid age!\n"
     ]
    }
   ],
   "source": [
    "p.set_age(-10) "
   ]
  },
  {
   "cell_type": "markdown",
   "id": "9d317a10-b909-4cf0-bbd5-b71e9d71b589",
   "metadata": {},
   "source": [
    "Que 5 Answer :\n",
    "Method overriding is a feature of object-oriented programming where a subclass provides its own implementation of a method that is already defined in its parent class. When the method is called on an object of the subclass, the implementation in the subclass is executed instead of the implementation in the parent class.\n",
    "\n",
    "Example:"
   ]
  },
  {
   "cell_type": "code",
   "execution_count": null,
   "id": "8b106764-cb87-4b77-9d6a-f0e2081cd8f2",
   "metadata": {},
   "outputs": [],
   "source": [
    "class Animal:\n",
    "    def speak(self):\n",
    "        print(\"The animal speaks.\")\n",
    "\n",
    "class Dog(Animal):\n",
    "    def speak(self):\n",
    "        print(\"The dog barks.\")\n",
    "\n",
    "a = Animal()\n",
    "d = Dog()\n",
    "a.speak()\n",
    "d.speak()\n"
   ]
  }
 ],
 "metadata": {
  "kernelspec": {
   "display_name": "Python 3 (ipykernel)",
   "language": "python",
   "name": "python3"
  },
  "language_info": {
   "codemirror_mode": {
    "name": "ipython",
    "version": 3
   },
   "file_extension": ".py",
   "mimetype": "text/x-python",
   "name": "python",
   "nbconvert_exporter": "python",
   "pygments_lexer": "ipython3",
   "version": "3.10.8"
  }
 },
 "nbformat": 4,
 "nbformat_minor": 5
}
